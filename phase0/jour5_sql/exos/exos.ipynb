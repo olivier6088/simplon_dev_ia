{
 "cells": [
  {
   "cell_type": "markdown",
   "id": "5ce51bf9",
   "metadata": {},
   "source": [
    "# Exercices — SQL Niveau 1 — CRUD & bases"
   ]
  },
  {
   "cell_type": "markdown",
   "id": "ae931f07",
   "metadata": {},
   "source": [
    "- **Important** : ces cellules utilisent l’extension `ipython-sql`. Exécute d’abord la cellule suivante."
   ]
  },
  {
   "cell_type": "code",
   "execution_count": null,
   "id": "42122bb9",
   "metadata": {},
   "outputs": [],
   "source": [
    "%load_ext sql\n",
    "%sql sqlite:///dbz_lvl1.db"
   ]
  },
  {
   "cell_type": "markdown",
   "id": "72fa9143",
   "metadata": {},
   "source": [
    "## Préparation — tables de base (tu peux exécuter tel quel)"
   ]
  },
  {
   "cell_type": "code",
   "execution_count": null,
   "id": "7b325682",
   "metadata": {},
   "outputs": [],
   "source": [
    "%%sql\n",
    "PRAGMA foreign_keys = ON; -- Activer les clés étrangères pour SQLite (évite des erreurs)\n",
    "\n",
    "DROP TABLE IF EXISTS characters;\n",
    "DROP TABLE IF EXISTS teams;\n",
    "\n",
    "CREATE TABLE teams (\n",
    "  id INTEGER PRIMARY KEY,\n",
    "  name TEXT NOT NULL,\n",
    "  base TEXT\n",
    ");\n",
    "\n",
    "CREATE TABLE characters (\n",
    "  id INTEGER PRIMARY KEY,\n",
    "  name TEXT NOT NULL,\n",
    "  race TEXT,\n",
    "  power_level INTEGER,\n",
    "  team_id INTEGER,\n",
    "  FOREIGN KEY (team_id) REFERENCES teams(id)\n",
    ");\n",
    "\n",
    "INSERT INTO teams (id, name, base) VALUES\n",
    " (1,'Z-Fighters','Kame House'),\n",
    " (2,'Forces de Freezer','Vaisseau de Freezer');\n",
    "\n",
    "INSERT INTO characters (id, name, race, power_level, team_id) VALUES\n",
    " (1,'Goku','Saiyan',3000000,1),\n",
    " (2,'Vegeta','Saiyan',2500000,1),\n",
    " (3,'Piccolo','Namekian',1200000,1),\n",
    " (4,'Krillin','Humain',300000,1),\n",
    " (5,'Frieza','Alien',5000000,2),\n",
    " (6,'Zarbon','Alien',1500000,2),\n",
    " (7,'Dodoria','Alien',1200000,2),\n",
    " (8,'Captain Ginyu','Alien',2000000,2);"
   ]
  },
  {
   "cell_type": "markdown",
   "id": "f6c3b043",
   "metadata": {},
   "source": [
    "## Exercices (15) — à toi de jouer !"
   ]
  },
  {
   "cell_type": "markdown",
   "id": "f052572e",
   "metadata": {},
   "source": [
    "### Exercice 1\n",
    "Créer une table **d’entraînement** `training_chars(id PK, name NOT NULL, race, power_level)`."
   ]
  },
  {
   "cell_type": "code",
   "execution_count": null,
   "id": "7390d4bc",
   "metadata": {},
   "outputs": [],
   "source": [
    "%%sql\n",
    "-- Écris ta requête SQL ici"
   ]
  },
  {
   "cell_type": "markdown",
   "id": "7aaf38bb",
   "metadata": {},
   "source": [
    "### Exercice 2\n",
    "Insérer 3 personnages (ex : Goku, Krillin, Piccolo) dans `training_chars`."
   ]
  },
  {
   "cell_type": "code",
   "execution_count": null,
   "id": "154426fd",
   "metadata": {},
   "outputs": [],
   "source": [
    "%%sql\n",
    "-- Écris ta requête SQL ici"
   ]
  },
  {
   "cell_type": "markdown",
   "id": "c0009a3d",
   "metadata": {},
   "source": [
    "### Exercice 3\n",
    "Lister toutes les lignes de `training_chars`."
   ]
  },
  {
   "cell_type": "code",
   "execution_count": null,
   "id": "8052f82b",
   "metadata": {},
   "outputs": [],
   "source": [
    "%%sql\n",
    "-- Écris ta requête SQL ici"
   ]
  },
  {
   "cell_type": "markdown",
   "id": "f27ece2c",
   "metadata": {},
   "source": [
    "### Exercice 4\n",
    "Afficher uniquement `name` et `power_level` de `training_chars`, triés par puissance décroissante."
   ]
  },
  {
   "cell_type": "code",
   "execution_count": null,
   "id": "9b5dd4ed",
   "metadata": {},
   "outputs": [],
   "source": [
    "%%sql\n",
    "-- Écris ta requête SQL ici"
   ]
  },
  {
   "cell_type": "markdown",
   "id": "963b5507",
   "metadata": {},
   "source": [
    "### Exercice 5\n",
    "Sélectionner les personnages de `characters` dont la `race` est 'Saiyan'."
   ]
  },
  {
   "cell_type": "code",
   "execution_count": null,
   "id": "5a0bcd9b",
   "metadata": {},
   "outputs": [],
   "source": [
    "%%sql\n",
    "-- Écris ta requête SQL ici"
   ]
  },
  {
   "cell_type": "markdown",
   "id": "c4041e89",
   "metadata": {},
   "source": [
    "### Exercice 6\n",
    "Afficher les personnages `characters` dont le nom commence par 'G'."
   ]
  },
  {
   "cell_type": "code",
   "execution_count": null,
   "id": "04584ce7",
   "metadata": {},
   "outputs": [],
   "source": [
    "%%sql\n",
    "-- Écris ta requête SQL ici"
   ]
  },
  {
   "cell_type": "markdown",
   "id": "a8ce2a9e",
   "metadata": {},
   "source": [
    "### Exercice 7\n",
    "Ajouter une colonne `planet TEXT` à `characters` via `ALTER TABLE`."
   ]
  },
  {
   "cell_type": "code",
   "execution_count": null,
   "id": "bd24bdd0",
   "metadata": {},
   "outputs": [],
   "source": [
    "%%sql\n",
    "-- Écris ta requête SQL ici"
   ]
  },
  {
   "cell_type": "markdown",
   "id": "c057f7a5",
   "metadata": {},
   "source": [
    "### Exercice 8\n",
    "Afficher les **planètes** distinctes de `characters` (après avoir mis à jour quelques planètes)."
   ]
  },
  {
   "cell_type": "code",
   "execution_count": null,
   "id": "e93d742f",
   "metadata": {},
   "outputs": [],
   "source": [
    "%%sql\n",
    "-- Écris ta requête SQL ici"
   ]
  },
  {
   "cell_type": "markdown",
   "id": "656cfacb",
   "metadata": {},
   "source": [
    "### Exercice 9\n",
    "Compter le **nombre total** de lignes dans `characters`."
   ]
  },
  {
   "cell_type": "code",
   "execution_count": null,
   "id": "8c6ef60b",
   "metadata": {},
   "outputs": [],
   "source": [
    "%%sql\n",
    "-- Écris ta requête SQL ici"
   ]
  },
  {
   "cell_type": "markdown",
   "id": "1f473685",
   "metadata": {},
   "source": [
    "### Exercice 10\n",
    "Calculer la **moyenne** de `power_level` dans `characters`."
   ]
  },
  {
   "cell_type": "code",
   "execution_count": null,
   "id": "7a2fa859",
   "metadata": {},
   "outputs": [],
   "source": [
    "%%sql\n",
    "-- Écris ta requête SQL ici"
   ]
  },
  {
   "cell_type": "markdown",
   "id": "9a4a6b71",
   "metadata": {},
   "source": [
    "### Exercice 11\n",
    "Compter le nombre de personnages par équipe (`team_id`) dans `characters`."
   ]
  },
  {
   "cell_type": "code",
   "execution_count": null,
   "id": "30d46a08",
   "metadata": {},
   "outputs": [],
   "source": [
    "%%sql\n",
    "-- Écris ta requête SQL ici"
   ]
  },
  {
   "cell_type": "markdown",
   "id": "fc6b85a5",
   "metadata": {},
   "source": [
    "### Exercice 12\n",
    "Afficher les personnages avec `power_level >= 1 000 000`."
   ]
  },
  {
   "cell_type": "code",
   "execution_count": null,
   "id": "c1d2db54",
   "metadata": {},
   "outputs": [],
   "source": [
    "%%sql\n",
    "-- Écris ta requête SQL ici"
   ]
  },
  {
   "cell_type": "markdown",
   "id": "39826bb1",
   "metadata": {},
   "source": [
    "### Exercice 13\n",
    "Afficher les 3 premiers personnages triés par `name` (ordre croissant)."
   ]
  },
  {
   "cell_type": "code",
   "execution_count": null,
   "id": "f7aacb5d",
   "metadata": {},
   "outputs": [],
   "source": [
    "%%sql\n",
    "-- Écris ta requête SQL ici"
   ]
  },
  {
   "cell_type": "markdown",
   "id": "3e06a370",
   "metadata": {},
   "source": [
    "### Exercice 14\n",
    "Augmenter de **10%** la puissance de 'Goku' dans `training_chars`."
   ]
  },
  {
   "cell_type": "code",
   "execution_count": null,
   "id": "f5861c97",
   "metadata": {},
   "outputs": [],
   "source": [
    "%%sql\n",
    "-- Écris ta requête SQL ici"
   ]
  },
  {
   "cell_type": "markdown",
   "id": "7cea4cdd",
   "metadata": {},
   "source": [
    "### Exercice 15\n",
    "Supprimer la ligne `training_chars` où `name = 'Krillin'` et vérifier le résultat."
   ]
  },
  {
   "cell_type": "code",
   "execution_count": null,
   "id": "905e6a3c",
   "metadata": {},
   "outputs": [],
   "source": [
    "%%sql\n",
    "-- Écris ta requête SQL ici"
   ]
  }
 ],
 "metadata": {
  "kernelspec": {
   "display_name": ".venv",
   "language": "python",
   "name": "python3"
  },
  "language_info": {
   "codemirror_mode": {
    "name": "ipython",
    "version": 3
   },
   "file_extension": ".py",
   "mimetype": "text/x-python",
   "name": "python",
   "nbconvert_exporter": "python",
   "pygments_lexer": "ipython3",
   "version": "3.13.7"
  }
 },
 "nbformat": 4,
 "nbformat_minor": 5
}
